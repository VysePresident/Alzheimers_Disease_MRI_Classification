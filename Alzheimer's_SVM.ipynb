{
  "nbformat": 4,
  "nbformat_minor": 0,
  "metadata": {
    "colab": {
      "provenance": [],
      "authorship_tag": "ABX9TyPmmtlYyOBmQBt+zO1Tm7gT",
      "include_colab_link": true
    },
    "kernelspec": {
      "name": "python3",
      "display_name": "Python 3"
    },
    "language_info": {
      "name": "python"
    }
  },
  "cells": [
    {
      "cell_type": "markdown",
      "metadata": {
        "id": "view-in-github",
        "colab_type": "text"
      },
      "source": [
        "<a href=\"https://colab.research.google.com/github/VysePresident/Alzheimers_Disease_MRI_Classification/blob/main/Alzheimer's_SVM.ipynb\" target=\"_parent\"><img src=\"https://colab.research.google.com/assets/colab-badge.svg\" alt=\"Open In Colab\"/></a>"
      ]
    },
    {
      "cell_type": "code",
      "execution_count": null,
      "metadata": {
        "colab": {
          "base_uri": "https://localhost:8080/"
        },
        "id": "Tl9TCubeUO5b",
        "outputId": "82a54e3d-9644-4d17-996f-9cd0fb59fea6"
      },
      "outputs": [
        {
          "output_type": "stream",
          "name": "stdout",
          "text": [
            "2.9.2\n",
            "1.21.6\n",
            "1.3.5\n"
          ]
        }
      ],
      "source": [
        "import tensorflow as tf\n",
        "from tensorflow import keras\n",
        "import numpy as np\n",
        "import pandas as pd\n",
        "import matplotlib as mpl\n",
        "import numpy as np\n",
        "from PIL import Image\n",
        "import os\n",
        "\n",
        "import matplotlib.pyplot as plt\n",
        "import sklearn\n",
        "\n",
        "print(tf.__version__)\n",
        "print(np.version.version)\n",
        "print(pd.__version__)\n",
        "\n"
      ]
    },
    {
      "cell_type": "code",
      "source": [
        "from google.colab import drive\n",
        "drive.mount('/content/drive/')"
      ],
      "metadata": {
        "colab": {
          "base_uri": "https://localhost:8080/"
        },
        "id": "4edKdgVrUT6p",
        "outputId": "fe6e7849-a840-4932-fd15-ea00cb97b370"
      },
      "execution_count": null,
      "outputs": [
        {
          "output_type": "stream",
          "name": "stdout",
          "text": [
            "Mounted at /content/drive/\n"
          ]
        }
      ]
    },
    {
      "cell_type": "code",
      "source": [
        "# TEST UNZIP\n",
        "\n",
        "# !unzip alzheimers_archive.zip"
      ],
      "metadata": {
        "id": "RvcqJZIO5PxL"
      },
      "execution_count": null,
      "outputs": []
    },
    {
      "cell_type": "code",
      "source": [
        "def load_individual_image(infilename):\n",
        "    img = Image.open(infilename)\n",
        "    img.load()\n",
        "    data = np.asarray(img, dtype=\"int32\") #.flatten()\n",
        "    return data"
      ],
      "metadata": {
        "id": "Vd95ixxcWJ4P"
      },
      "execution_count": null,
      "outputs": []
    },
    {
      "cell_type": "code",
      "source": [
        "def handleImages(nestedFileName):\n",
        "  allImages = []\n",
        "  for file in os.listdir(nestedFileName):\n",
        "    allImages.append(load_individual_image(nestedFileName + file))\n",
        "  return np.asarray(allImages)"
      ],
      "metadata": {
        "id": "1Op02TcLWJ-a"
      },
      "execution_count": null,
      "outputs": []
    },
    {
      "cell_type": "code",
      "source": [
        "# TOP SET PULLS FROM GOOGLE DRIVE.  BOTTOM SET FROM UPLOADED ZIP\n",
        "\n",
        "MildDemImageArr = handleImages(\"/content/drive/MyDrive/Alzheimer_s Dataset/train/MildDemented/\") / 255\n",
        "ModDemImageArr = handleImages(\"/content/drive/MyDrive/Alzheimer_s Dataset/train/ModerateDemented/\") / 255\n",
        "NonDemImageArr = handleImages(\"/content/drive/MyDrive/Alzheimer_s Dataset/train/NonDemented/\") / 255\n",
        "VeryDemImageArr = handleImages(\"/content/drive/MyDrive/Alzheimer_s Dataset/train/VeryMildDemented/\") / 255\n",
        "\n",
        "testarrone = handleImages(\"/content/drive/MyDrive/Alzheimer_s Dataset/test/MildDemented/\") / 255\n",
        "testarrtwo = handleImages(\"/content/drive/MyDrive/Alzheimer_s Dataset/test/ModerateDemented/\") / 255\n",
        "testarrthree = handleImages(\"/content/drive/MyDrive/Alzheimer_s Dataset/test/NonDemented/\") / 255\n",
        "testarrfour = handleImages(\"/content/drive/MyDrive/Alzheimer_s Dataset/test/VeryMildDemented/\") / 255\n",
        "\n",
        "# MildDemImageArr = handleImages(\"/content/Alzheimer_s Dataset/train/MildDemented/\") / 255\n",
        "# ModDemImageArr = handleImages(\"/content/Alzheimer_s Dataset/train/ModerateDemented/\") / 255\n",
        "# NonDemImageArr = handleImages(\"/content/Alzheimer_s Dataset/train/NonDemented/\") / 255\n",
        "# VeryDemImageArr = handleImages(\"/content/Alzheimer_s Dataset/train/VeryMildDemented/\") / 255\n",
        "\n",
        "# testarrone = handleImages(\"/content/Alzheimer_s Dataset/test/MildDemented/\") / 255\n",
        "# testarrtwo = handleImages(\"/content/Alzheimer_s Dataset/test/ModerateDemented/\") / 255\n",
        "# testarrthree = handleImages(\"/content/Alzheimer_s Dataset/test/NonDemented/\") / 255\n",
        "# testarrfour = handleImages(\"/content/Alzheimer_s Dataset/test/VeryMildDemented/\") / 255"
      ],
      "metadata": {
        "id": "Xs9VjZNCWTL5"
      },
      "execution_count": null,
      "outputs": []
    },
    {
      "cell_type": "code",
      "source": [
        "mildDX = np.concatenate((MildDemImageArr, testarrone), dtype=np.floating)\n",
        "mildDY = np.ones(mildDX.shape[0])\n",
        "\n",
        "modDX = np.concatenate((ModDemImageArr, testarrtwo), dtype=np.floating)\n",
        "modDY = np.ones(modDX.shape[0])*2\n",
        "\n",
        "noDX = np.concatenate((NonDemImageArr, testarrthree), dtype=np.floating)\n",
        "noDY = np.ones(noDX.shape[0])*3\n",
        "\n",
        "vDX = np.concatenate((VeryDemImageArr, testarrfour), dtype=np.floating)\n",
        "vDY = np.ones(vDX.shape[0])*4"
      ],
      "metadata": {
        "id": "tDM3ENBNWTqh"
      },
      "execution_count": null,
      "outputs": []
    },
    {
      "cell_type": "code",
      "source": [
        "Xtotal = np.concatenate((mildDX, modDX, noDX, vDX), dtype=np.floating)\n",
        "Ytotal = np.concatenate((mildDY, modDY, noDY, vDY), dtype=np.floating)"
      ],
      "metadata": {
        "id": "gyhd0HSgWUSu"
      },
      "execution_count": null,
      "outputs": []
    },
    {
      "cell_type": "code",
      "source": [
        "print(Xtotal.shape)\n",
        "print(Ytotal.shape)\n",
        "print(Xtotal[2400])\n",
        "print(Ytotal[2400])"
      ],
      "metadata": {
        "colab": {
          "base_uri": "https://localhost:8080/"
        },
        "id": "Ae7N2CPaWUiS",
        "outputId": "bf394d9e-cff3-4dbb-8fed-c25d8226844c"
      },
      "execution_count": null,
      "outputs": [
        {
          "output_type": "stream",
          "name": "stdout",
          "text": [
            "(6400, 208, 176)\n",
            "(6400,)\n",
            "[[0. 0. 0. ... 0. 0. 0.]\n",
            " [0. 0. 0. ... 0. 0. 0.]\n",
            " [0. 0. 0. ... 0. 0. 0.]\n",
            " ...\n",
            " [0. 0. 0. ... 0. 0. 0.]\n",
            " [0. 0. 0. ... 0. 0. 0.]\n",
            " [0. 0. 0. ... 0. 0. 0.]]\n",
            "3.0\n"
          ]
        }
      ]
    },
    {
      "cell_type": "code",
      "source": [],
      "metadata": {
        "id": "VQ-icBn2bCmJ"
      },
      "execution_count": null,
      "outputs": []
    },
    {
      "cell_type": "markdown",
      "source": [
        "SVM Model"
      ],
      "metadata": {
        "id": "W2I09X2lbHtu"
      }
    },
    {
      "cell_type": "code",
      "source": [
        "from sklearn import svm\n",
        "from sklearn.model_selection import train_test_split\n",
        "from sklearn import metrics"
      ],
      "metadata": {
        "id": "_gA3O-TdbJGE"
      },
      "execution_count": null,
      "outputs": []
    },
    {
      "cell_type": "code",
      "source": [
        "X_train, X_test, y_train, y_test = train_test_split(Xtotal, Ytotal, test_size=0.3)"
      ],
      "metadata": {
        "id": "iugy1r_nf-om"
      },
      "execution_count": null,
      "outputs": []
    },
    {
      "cell_type": "code",
      "source": [
        "classifier = svm.SVC(C=10, gamma=0.001)"
      ],
      "metadata": {
        "id": "9akoapTtgAPF"
      },
      "execution_count": null,
      "outputs": []
    },
    {
      "cell_type": "code",
      "source": [
        "classifier.fit(X_train, y_train)"
      ],
      "metadata": {
        "id": "qiWZljgfgOpN",
        "colab": {
          "base_uri": "https://localhost:8080/"
        },
        "outputId": "d321ce7d-b22c-4e47-a6e1-9ecc17dcb266"
      },
      "execution_count": null,
      "outputs": [
        {
          "output_type": "execute_result",
          "data": {
            "text/plain": [
              "SVC(C=10, gamma=0.001)"
            ]
          },
          "metadata": {},
          "execution_count": 14
        }
      ]
    },
    {
      "cell_type": "code",
      "source": [
        "classifier_pred = classifier.predict(X_test)"
      ],
      "metadata": {
        "id": "MwuDkDsR7V-5"
      },
      "execution_count": null,
      "outputs": []
    },
    {
      "cell_type": "code",
      "source": [
        "from sklearn.metrics import accuracy_score\n",
        "\n",
        "#print('Model accuracy score with criterion rbf, C=1.0, g=0.001: {0:0.4f}'.format(accuracy_score(y_test, classifier_pred)))\n",
        "print('Model accuracy score with criterion rbf, C=10.0, g=0.001: {0:0.4f}'.format(accuracy_score(y_test, classifier_pred)))"
      ],
      "metadata": {
        "colab": {
          "base_uri": "https://localhost:8080/"
        },
        "id": "fQjfZst97Qvm",
        "outputId": "0220e059-5ccd-4644-d96b-a66921c06007"
      },
      "execution_count": null,
      "outputs": [
        {
          "output_type": "stream",
          "name": "stdout",
          "text": [
            "Model accuracy score with criterion rbf, C=10.0, g=0.001: 0.9875\n"
          ]
        }
      ]
    },
    {
      "cell_type": "code",
      "source": [
        "print(\"Classification report for classifier %s: \\n%s\\n\"\n",
        "     % (classifier, metrics.classification_report(y_test, classifier_pred)))\n",
        "print(\"Confusion matrix: \\n%s\" % metrics.confusion_matrix(y_test, classifier_pred))\n",
        "\n",
        "conf_svm = metrics.confusion_matrix(y_test, classifier_pred)"
      ],
      "metadata": {
        "colab": {
          "base_uri": "https://localhost:8080/"
        },
        "id": "uCK5oTUR2YxF",
        "outputId": "be67426c-8ce0-4638-8a0e-fb80eb5a086b"
      },
      "execution_count": null,
      "outputs": [
        {
          "output_type": "stream",
          "name": "stdout",
          "text": [
            "Classification report for classifier SVC(C=10, gamma=0.001): \n",
            "              precision    recall  f1-score   support\n",
            "\n",
            "         1.0       1.00      0.98      0.99       273\n",
            "         2.0       1.00      0.86      0.93        29\n",
            "         3.0       0.99      0.99      0.99       982\n",
            "         4.0       0.98      0.99      0.98       636\n",
            "\n",
            "    accuracy                           0.99      1920\n",
            "   macro avg       0.99      0.96      0.97      1920\n",
            "weighted avg       0.99      0.99      0.99      1920\n",
            "\n",
            "\n",
            "Confusion matrix: \n",
            "[[267   0   2   4]\n",
            " [  0  25   2   2]\n",
            " [  0   0 975   7]\n",
            " [  0   0   7 629]]\n"
          ]
        }
      ]
    },
    {
      "cell_type": "code",
      "source": [
        "labels = []"
      ],
      "metadata": {
        "id": "A--kXf5dZTNj"
      },
      "execution_count": null,
      "outputs": []
    },
    {
      "cell_type": "code",
      "source": [
        "# fig = plt.figure()\n",
        "ax = sn.heatmap(conf_svm, annot=True,  fmt=\"d\", cmap=\"Blues\", xticklabels=([\"Mild\", \"Mod\", \"Non\", \"VMild\"]), yticklabels=[\"Mild\", \"Mod\", \"Non\", \"VMild\"],\n",
        "           annot_kws={\"size\": 8}) # font size\n",
        "ax.set_xlabel('Actual', fontsize = 15)\n",
        "ax.set_ylabel('Predicted', fontsize = 15)\n",
        "ax.set_xticklabels([\"Mild\", \"Mod\", \"Non\", \"VMild\"], size = 10)\n",
        "ax.set_yticklabels([\"Mild\", \"Mod\", \"Non\", \"VMild\"], size = 10)\n",
        "\n",
        "# sn.heatmap(conf_svm, annot=True,  fmt=\"d\", cmap=\"Blues\", xticklabels=[\"Mild\", \"Mod\", \"Non\", \"VMild\"], yticklabels=[\"Mild\", \"Mod\", \"Non\", \"VMild\"],\n",
        "#           annot_kws={\"size\": 16}) # font size\n",
        "plt.show()"
      ],
      "metadata": {
        "colab": {
          "base_uri": "https://localhost:8080/",
          "height": 287
        },
        "id": "PbOWSLwqTdUU",
        "outputId": "34d0eb5f-7a34-46f0-80d9-82227ba976b6"
      },
      "execution_count": null,
      "outputs": [
        {
          "output_type": "display_data",
          "data": {
            "text/plain": [
              "<Figure size 432x288 with 2 Axes>"
            ],
            "image/png": "[encoded data removed]"
          },
          "metadata": {}
        }
      ]
    },
    {
      "cell_type": "code",
      "source": [
        "sklearn.metrics.ConfusionMatrixDisplay(conf_svm)"
      ],
      "metadata": {
        "colab": {
          "base_uri": "https://localhost:8080/"
        },
        "id": "D8j2quhpXbY_",
        "outputId": "874eaa22-ca9c-4fa5-9f6f-bb6a8a12f76f"
      },
      "execution_count": null,
      "outputs": [
        {
          "output_type": "execute_result",
          "data": {
            "text/plain": [
              "<sklearn.metrics._plot.confusion_matrix.ConfusionMatrixDisplay at 0x7efda0719890>"
            ]
          },
          "metadata": {},
          "execution_count": 22
        }
      ]
    },
    {
      "cell_type": "code",
      "source": [
        " disp = metrics.ConfusionMatrixDisplay(confusion_matrix=conf_svm,\n",
        "...                               display_labels=classifier.classes_)"
      ],
      "metadata": {
        "id": "vVblnHB3Xmn_"
      },
      "execution_count": null,
      "outputs": []
    },
    {
      "cell_type": "code",
      "source": [
        "disp.plot()\n",
        "\n",
        "plt.show()"
      ],
      "metadata": {
        "colab": {
          "base_uri": "https://localhost:8080/",
          "height": 295
        },
        "id": "kpR_kVGXYVHD",
        "outputId": "a91f37b1-edc7-4f6d-9eb3-c0176578c274"
      },
      "execution_count": null,
      "outputs": [
        {
          "output_type": "display_data",
          "data": {
            "text/plain": [
              "<Figure size 432x288 with 2 Axes>"
            ],
            "image/png": "[encoded data removed]"
          },
          "metadata": {}
        }
      ]
    },
    {
      "cell_type": "code",
      "source": [
        "import seaborn as sn\n",
        "import pandas as pd\n",
        "import matplotlib.pyplot as plt\n",
        "\n",
        "array = [[267,0,2,4],\n",
        "         [0,25,2,2],\n",
        "         [0,0,975,7],\n",
        "         [0,0,7,629]]\n",
        "\n",
        "df_cm = pd.DataFrame(array, range(4), range(4))\n",
        "# plt.figure(figsize=(10,7))\n",
        "sn.set(font_scale=1.4) # for label size\n",
        "sn.heatmap(df_cm, annot=True, annot_kws={\"size\": 16}) # font size\n",
        "\n",
        "plt.show()"
      ],
      "metadata": {
        "colab": {
          "base_uri": "https://localhost:8080/",
          "height": 273
        },
        "id": "x9z8249yTdm2",
        "outputId": "e18d2f00-afd1-4b67-d8be-b1a1fed37ed9"
      },
      "execution_count": null,
      "outputs": [
        {
          "output_type": "display_data",
          "data": {
            "text/plain": [
              "<Figure size 432x288 with 2 Axes>"
            ],
            "image/png": "[encoded data removed]"
          },
          "metadata": {}
        }
      ]
    },
    {
      "cell_type": "code",
      "source": [
        "# Compare training set data results to testing set data results:\n",
        "\n",
        "classifier_pred_train = classifier.predict(X_train)\n",
        "print('Training set score: {:.4f}'.format(classifier.score(X_train, y_train)))\n",
        "print('Test set score: {:.4f}'.format(classifier.score(X_test, y_test)))"
      ],
      "metadata": {
        "id": "znNUzm496klJ",
        "colab": {
          "base_uri": "https://localhost:8080/"
        },
        "outputId": "bbb1729d-a028-47ad-d8d1-856b921e1e3d"
      },
      "execution_count": null,
      "outputs": [
        {
          "output_type": "stream",
          "name": "stdout",
          "text": [
            "Training set score: 1.0000\n",
            "Test set score: 0.9927\n"
          ]
        }
      ]
    },
    {
      "cell_type": "code",
      "source": [
        "# TESTING HYPERPARAMTER TUNING"
      ],
      "metadata": {
        "id": "lGfh6rqDDWFB"
      },
      "execution_count": null,
      "outputs": []
    },
    {
      "cell_type": "code",
      "source": [
        "from sklearn.model_selection import GridSearchCV\n",
        "import random"
      ],
      "metadata": {
        "id": "4EEdTbEDAdlS"
      },
      "execution_count": null,
      "outputs": []
    },
    {
      "cell_type": "code",
      "source": [],
      "metadata": {
        "id": "Ks5BTpU5h6WB"
      },
      "execution_count": null,
      "outputs": []
    },
    {
      "cell_type": "markdown",
      "source": [
        "# HYPERPARAMETER TUNING"
      ],
      "metadata": {
        "id": "ut6LcIwnpxfW"
      }
    },
    {
      "cell_type": "markdown",
      "source": [],
      "metadata": {
        "id": "DEicNyT3P1n3"
      }
    },
    {
      "cell_type": "code",
      "source": [
        "# For reference\n",
        "\n",
        "#def handleImages(nestedFileName):\n",
        "#  allImages = []\n",
        "#  for file in os.listdir(nestedFileName):\n",
        "#    allImages.append(load_individual_image(nestedFileName + file))\n",
        "#  return np.asarray(allImages)"
      ],
      "metadata": {
        "id": "aZz7kjRBh66g"
      },
      "execution_count": null,
      "outputs": []
    },
    {
      "cell_type": "code",
      "source": [
        "import random"
      ],
      "metadata": {
        "id": "H6FiVFTWqBo2"
      },
      "execution_count": null,
      "outputs": []
    },
    {
      "cell_type": "code",
      "source": [
        "# For random image subset\n",
        "\n",
        "def randomhandleImages(nestedFileName, num_samples):\n",
        "  allImages = []\n",
        "  for x in range(num_samples):\n",
        "    file = random.choice(os.listdir(nestedFileName)) # Added\n",
        "    #image_path= os.path.join(nestedFileName, file) # Swapped out img_folder with test_folder\n",
        "    #img=mpimg.imread(image_path)\n",
        "    allImages.append(load_individual_image(nestedFileName + file))\n",
        "    # allImages.append(rand_show_individual_image(nestedFileName + file))\n",
        "  return np.asarray(allImages)"
      ],
      "metadata": {
        "id": "zwAzrphggkr4"
      },
      "execution_count": null,
      "outputs": []
    },
    {
      "cell_type": "code",
      "source": [
        "# For random image subset\n",
        "\n",
        "def rand_show_individual_image(infilename):\n",
        "    img = Image.open(infilename)\n",
        "    img.load()\n",
        "    data = np.asarray(img, dtype=\"int32\") #.flatten()\n",
        "    return data"
      ],
      "metadata": {
        "id": "WQoSPjEXm2bi"
      },
      "execution_count": null,
      "outputs": []
    },
    {
      "cell_type": "code",
      "source": [
        "# for i in range(5):\n",
        "#    file = random.choice(os.listdir(test_folder)) # Replace img_folder with test_folder? # SUCCESS\n",
        "#    image_path= os.path.join(test_folder, file) # Swapped out img_folder with test_folder\n",
        "#    img=mpimg.imread(image_path)\n",
        "#    ax=plt.subplot(1,5,i+1)\n",
        "#    ax.title.set_text(file)\n",
        "#    plt.imshow(img)\n",
        "\n",
        "rand_MildDemImageArr = randomhandleImages(\"/content/drive/MyDrive/Alzheimer_s Dataset/train/MildDemented/\", 100) / 255\n",
        "rand_ModDemImageArr = randomhandleImages(\"/content/drive/MyDrive/Alzheimer_s Dataset/train/ModerateDemented/\", 20) / 255\n",
        "rand_NonDemImageArr = randomhandleImages(\"/content/drive/MyDrive/Alzheimer_s Dataset/train/NonDemented/\", 128) / 255\n",
        "rand_VeryDemImageArr = randomhandleImages(\"/content/drive/MyDrive/Alzheimer_s Dataset/train/VeryMildDemented/\", 89) / 255\n",
        "\n",
        "rand_testarrone = randomhandleImages(\"/content/drive/MyDrive/Alzheimer_s Dataset/test/MildDemented/\", 100) / 255\n",
        "rand_testarrtwo = randomhandleImages(\"/content/drive/MyDrive/Alzheimer_s Dataset/test/ModerateDemented/\", 20) / 255\n",
        "rand_testarrthree = randomhandleImages(\"/content/drive/MyDrive/Alzheimer_s Dataset/test/NonDemented/\", 128) / 255\n",
        "rand_testarrfour = randomhandleImages(\"/content/drive/MyDrive/Alzheimer_s Dataset/test/VeryMildDemented/\", 89) / 255"
      ],
      "metadata": {
        "id": "oZuNQ7XSfb_n",
        "colab": {
          "base_uri": "https://localhost:8080/",
          "height": 356
        },
        "outputId": "46e0fef8-84ac-4bbc-b9a9-c494b146289f"
      },
      "execution_count": null,
      "outputs": [
        {
          "output_type": "error",
          "ename": "NameError",
          "evalue": "ignored",
          "traceback": [
            "\u001b[0;31m---------------------------------------------------------------------------\u001b[0m",
            "\u001b[0;31mNameError\u001b[0m                                 Traceback (most recent call last)",
            "\u001b[0;32m<ipython-input-6-88a0d119296a>\u001b[0m in \u001b[0;36m<module>\u001b[0;34m\u001b[0m\n\u001b[1;32m      7\u001b[0m \u001b[0;31m#    plt.imshow(img)\u001b[0m\u001b[0;34m\u001b[0m\u001b[0;34m\u001b[0m\u001b[0;34m\u001b[0m\u001b[0m\n\u001b[1;32m      8\u001b[0m \u001b[0;34m\u001b[0m\u001b[0m\n\u001b[0;32m----> 9\u001b[0;31m \u001b[0mrand_MildDemImageArr\u001b[0m \u001b[0;34m=\u001b[0m \u001b[0mrandomhandleImages\u001b[0m\u001b[0;34m(\u001b[0m\u001b[0;34m\"/content/drive/MyDrive/Alzheimer_s Dataset/train/MildDemented/\"\u001b[0m\u001b[0;34m,\u001b[0m \u001b[0;36m100\u001b[0m\u001b[0;34m)\u001b[0m \u001b[0;34m/\u001b[0m \u001b[0;36m255\u001b[0m\u001b[0;34m\u001b[0m\u001b[0;34m\u001b[0m\u001b[0m\n\u001b[0m\u001b[1;32m     10\u001b[0m \u001b[0mrand_ModDemImageArr\u001b[0m \u001b[0;34m=\u001b[0m \u001b[0mrandomhandleImages\u001b[0m\u001b[0;34m(\u001b[0m\u001b[0;34m\"/content/drive/MyDrive/Alzheimer_s Dataset/train/ModerateDemented/\"\u001b[0m\u001b[0;34m,\u001b[0m \u001b[0;36m20\u001b[0m\u001b[0;34m)\u001b[0m \u001b[0;34m/\u001b[0m \u001b[0;36m255\u001b[0m\u001b[0;34m\u001b[0m\u001b[0;34m\u001b[0m\u001b[0m\n\u001b[1;32m     11\u001b[0m \u001b[0mrand_NonDemImageArr\u001b[0m \u001b[0;34m=\u001b[0m \u001b[0mrandomhandleImages\u001b[0m\u001b[0;34m(\u001b[0m\u001b[0;34m\"/content/drive/MyDrive/Alzheimer_s Dataset/train/NonDemented/\"\u001b[0m\u001b[0;34m,\u001b[0m \u001b[0;36m128\u001b[0m\u001b[0;34m)\u001b[0m \u001b[0;34m/\u001b[0m \u001b[0;36m255\u001b[0m\u001b[0;34m\u001b[0m\u001b[0;34m\u001b[0m\u001b[0m\n",
            "\u001b[0;32m<ipython-input-4-aece4f5dde54>\u001b[0m in \u001b[0;36mrandomhandleImages\u001b[0;34m(nestedFileName, num_samples)\u001b[0m\n\u001b[1;32m      4\u001b[0m   \u001b[0mallImages\u001b[0m \u001b[0;34m=\u001b[0m \u001b[0;34m[\u001b[0m\u001b[0;34m]\u001b[0m\u001b[0;34m\u001b[0m\u001b[0;34m\u001b[0m\u001b[0m\n\u001b[1;32m      5\u001b[0m   \u001b[0;32mfor\u001b[0m \u001b[0mx\u001b[0m \u001b[0;32min\u001b[0m \u001b[0mrange\u001b[0m\u001b[0;34m(\u001b[0m\u001b[0mnum_samples\u001b[0m\u001b[0;34m)\u001b[0m\u001b[0;34m:\u001b[0m\u001b[0;34m\u001b[0m\u001b[0;34m\u001b[0m\u001b[0m\n\u001b[0;32m----> 6\u001b[0;31m     \u001b[0mfile\u001b[0m \u001b[0;34m=\u001b[0m \u001b[0mrandom\u001b[0m\u001b[0;34m.\u001b[0m\u001b[0mchoice\u001b[0m\u001b[0;34m(\u001b[0m\u001b[0mos\u001b[0m\u001b[0;34m.\u001b[0m\u001b[0mlistdir\u001b[0m\u001b[0;34m(\u001b[0m\u001b[0mnestedFileName\u001b[0m\u001b[0;34m)\u001b[0m\u001b[0;34m)\u001b[0m \u001b[0;31m# Added\u001b[0m\u001b[0;34m\u001b[0m\u001b[0;34m\u001b[0m\u001b[0m\n\u001b[0m\u001b[1;32m      7\u001b[0m     \u001b[0;31m#image_path= os.path.join(nestedFileName, file) # Swapped out img_folder with test_folder\u001b[0m\u001b[0;34m\u001b[0m\u001b[0;34m\u001b[0m\u001b[0;34m\u001b[0m\u001b[0m\n\u001b[1;32m      8\u001b[0m     \u001b[0;31m#img=mpimg.imread(image_path)\u001b[0m\u001b[0;34m\u001b[0m\u001b[0;34m\u001b[0m\u001b[0;34m\u001b[0m\u001b[0m\n",
            "\u001b[0;31mNameError\u001b[0m: name 'os' is not defined"
          ]
        }
      ]
    },
    {
      "cell_type": "code",
      "source": [
        "# Random test to see if the images are being imported correctly.  It seems ok?\n",
        "\n",
        "img_MildDemImageArr = randomhandleImages(\"/content/drive/MyDrive/Alzheimer_s Dataset/train/MildDemented/\", 5)\n",
        "img_ModDemImageArr = randomhandleImages(\"/content/drive/MyDrive/Alzheimer_s Dataset/train/ModerateDemented/\", 5)\n",
        "img_NonDemImageArr = randomhandleImages(\"/content/drive/MyDrive/Alzheimer_s Dataset/train/NonDemented/\", 5)\n",
        "img_VeryDemImageArr = randomhandleImages(\"/content/drive/MyDrive/Alzheimer_s Dataset/train/VeryMildDemented/\", 5)\n",
        "\n",
        "img_testarrone = randomhandleImages(\"/content/drive/MyDrive/Alzheimer_s Dataset/test/MildDemented/\", 5)\n",
        "img_testarrtwo = randomhandleImages(\"/content/drive/MyDrive/Alzheimer_s Dataset/test/ModerateDemented/\", 5)\n",
        "img_testarrthree = randomhandleImages(\"/content/drive/MyDrive/Alzheimer_s Dataset/test/NonDemented/\", 5)\n",
        "img_testarrfour = randomhandleImages(\"/content/drive/MyDrive/Alzheimer_s Dataset/test/VeryMildDemented/\", 5)"
      ],
      "metadata": {
        "id": "6KB4TMfUkTTD"
      },
      "execution_count": null,
      "outputs": []
    },
    {
      "cell_type": "code",
      "source": [
        "# import matplotlib.image as mpimg"
      ],
      "metadata": {
        "id": "ZIE1PaXEkD18"
      },
      "execution_count": null,
      "outputs": []
    },
    {
      "cell_type": "code",
      "source": [
        "rand_mildDX = np.concatenate((rand_MildDemImageArr, rand_testarrone), dtype=np.floating)\n",
        "rand_mildDY = np.ones(rand_mildDX.shape[0])\n",
        "\n",
        "rand_modDX = np.concatenate((rand_ModDemImageArr, rand_testarrtwo), dtype=np.floating)\n",
        "rand_modDY = np.ones(rand_modDX.shape[0])*2\n",
        "\n",
        "rand_noDX = np.concatenate((rand_NonDemImageArr, rand_testarrthree), dtype=np.floating)\n",
        "rand_noDY = np.ones(rand_noDX.shape[0])*3\n",
        "\n",
        "rand_vDX = np.concatenate((rand_VeryDemImageArr, rand_testarrfour), dtype=np.floating)\n",
        "rand_vDY = np.ones(rand_vDX.shape[0])*4"
      ],
      "metadata": {
        "id": "Ube5DjcIjum-"
      },
      "execution_count": null,
      "outputs": []
    },
    {
      "cell_type": "code",
      "source": [
        "rand_Xtotal = np.concatenate((rand_mildDX, rand_modDX, rand_noDX, rand_vDX), dtype=np.floating)\n",
        "rand_Ytotal = np.concatenate((rand_mildDY, rand_modDY, rand_noDY, rand_vDY), dtype=np.floating)"
      ],
      "metadata": {
        "id": "8Fnkqtjdpiic"
      },
      "execution_count": null,
      "outputs": []
    },
    {
      "cell_type": "code",
      "source": [
        "print(rand_Xtotal.shape)\n",
        "print(rand_Ytotal.shape)\n",
        "print(rand_Xtotal[5])\n",
        "print(rand_Ytotal[5])"
      ],
      "metadata": {
        "id": "_iBr5hmnqI9L"
      },
      "execution_count": null,
      "outputs": []
    },
    {
      "cell_type": "code",
      "source": [
        "from sklearn import svm\n",
        "from sklearn.model_selection import train_test_split\n",
        "from sklearn import metrics"
      ],
      "metadata": {
        "id": "72vqWMrxqss9"
      },
      "execution_count": null,
      "outputs": []
    },
    {
      "cell_type": "code",
      "source": [
        "rand_X_train, rand_X_test, rand_y_train, rand_y_test = train_test_split(rand_Xtotal, rand_Ytotal, test_size=0.3)"
      ],
      "metadata": {
        "id": "p40MTIN-qK-u"
      },
      "execution_count": null,
      "outputs": []
    },
    {
      "cell_type": "code",
      "source": [
        "from sklearn.model_selection import GridSearchCV"
      ],
      "metadata": {
        "id": "Uiz4SZt7quj_"
      },
      "execution_count": null,
      "outputs": []
    },
    {
      "cell_type": "code",
      "source": [
        "param_grid = {'C': [0.1, 1, 10, 100, 1000], \n",
        "              'gamma': [1, 0.1, 0.01, 0.001, 0.0001],\n",
        "              'kernel': ['rbf']} "
      ],
      "metadata": {
        "id": "MGk1Gj6Mqz5w"
      },
      "execution_count": null,
      "outputs": []
    },
    {
      "cell_type": "code",
      "source": [
        "grid = GridSearchCV(svm.SVC(), param_grid, refit = True, verbose = 3)"
      ],
      "metadata": {
        "id": "xtGcLWKjq1e9"
      },
      "execution_count": null,
      "outputs": []
    },
    {
      "cell_type": "code",
      "source": [
        "grid.fit(rand_X_train, rand_y_train)"
      ],
      "metadata": {
        "id": "7Xw_P3eKq3AD"
      },
      "execution_count": null,
      "outputs": []
    },
    {
      "cell_type": "code",
      "source": [
        "# HYPERPARAMETER BIGGER"
      ],
      "metadata": {
        "id": "ePSzwJd3q5j4"
      },
      "execution_count": null,
      "outputs": []
    },
    {
      "cell_type": "code",
      "source": [
        "\n",
        "# print best parameter after tuning\n",
        "print(grid.best_params_)\n",
        "  \n",
        "# print how our model looks after hyper-parameter tuning\n",
        "print(grid.best_estimator_)"
      ],
      "metadata": {
        "id": "grnx9WlmrCAV"
      },
      "execution_count": null,
      "outputs": []
    },
    {
      "cell_type": "code",
      "source": [
        "grid_predictions = grid.predict(rand_X_train)\n",
        "  \n",
        "# print classification report\n",
        "print(metrics.classification_report(rand_y_test, grid_predictions))"
      ],
      "metadata": {
        "id": "mXTU_9vWrDN-"
      },
      "execution_count": null,
      "outputs": []
    },
    {
      "cell_type": "code",
      "source": [],
      "metadata": {
        "id": "n8zj-AWd6q5b"
      },
      "execution_count": null,
      "outputs": []
    },
    {
      "cell_type": "markdown",
      "source": [
        "# SVM with new hyperparameters"
      ],
      "metadata": {
        "id": "f_VipDSqP4h8"
      }
    },
    {
      "cell_type": "code",
      "source": [
        "hyper_classifier = svm.SVC(C=10, gamma=0.001, kernel='rbf')"
      ],
      "metadata": {
        "id": "--QUB88oP7JJ",
        "colab": {
          "base_uri": "https://localhost:8080/",
          "height": 165
        },
        "outputId": "f949e807-6cbc-424d-c5ad-a0de7ffba391"
      },
      "execution_count": null,
      "outputs": [
        {
          "output_type": "error",
          "ename": "NameError",
          "evalue": "ignored",
          "traceback": [
            "\u001b[0;31m---------------------------------------------------------------------------\u001b[0m",
            "\u001b[0;31mNameError\u001b[0m                                 Traceback (most recent call last)",
            "\u001b[0;32m<ipython-input-1-4d4cfeb9179e>\u001b[0m in \u001b[0;36m<module>\u001b[0;34m\u001b[0m\n\u001b[0;32m----> 1\u001b[0;31m \u001b[0mhyper_classifier\u001b[0m \u001b[0;34m=\u001b[0m \u001b[0msvm\u001b[0m\u001b[0;34m.\u001b[0m\u001b[0mSVC\u001b[0m\u001b[0;34m(\u001b[0m\u001b[0mC\u001b[0m\u001b[0;34m=\u001b[0m\u001b[0;36m10\u001b[0m\u001b[0;34m,\u001b[0m \u001b[0mgamma\u001b[0m\u001b[0;34m=\u001b[0m\u001b[0;36m0.001\u001b[0m\u001b[0;34m,\u001b[0m \u001b[0mkernel\u001b[0m\u001b[0;34m=\u001b[0m\u001b[0;34m'rbf'\u001b[0m\u001b[0;34m)\u001b[0m\u001b[0;34m\u001b[0m\u001b[0;34m\u001b[0m\u001b[0m\n\u001b[0m",
            "\u001b[0;31mNameError\u001b[0m: name 'svm' is not defined"
          ]
        }
      ]
    },
    {
      "cell_type": "code",
      "source": [
        "hyper_classifier.fit(X_train, y_train)"
      ],
      "metadata": {
        "id": "BWNhFIlDQNEW"
      },
      "execution_count": null,
      "outputs": []
    },
    {
      "cell_type": "code",
      "source": [
        "hyper_classifier = hyper_classifier.predict(X_test)"
      ],
      "metadata": {
        "id": "9EjFEemcQ-IC"
      },
      "execution_count": null,
      "outputs": []
    },
    {
      "cell_type": "code",
      "source": [
        "from sklearn.metrics import accuracy_score"
      ],
      "metadata": {
        "id": "7eV6PyRbRDmE"
      },
      "execution_count": null,
      "outputs": []
    },
    {
      "cell_type": "code",
      "source": [
        "print('Model accuracy score with criterion rbf, C=1.0, g=0.001: {0:0.4f}'.format(accuracy_score(y_test, hyper_classifier)))"
      ],
      "metadata": {
        "id": "vNgN1l4vRnLm"
      },
      "execution_count": null,
      "outputs": []
    },
    {
      "cell_type": "code",
      "source": [],
      "metadata": {
        "id": "RuJZZh5fVw3m"
      },
      "execution_count": null,
      "outputs": []
    }
  ]
}